{
  "nbformat": 4,
  "nbformat_minor": 0,
  "metadata": {
    "colab": {
      "name": "Cycleganstuff.ipynb",
      "provenance": [],
      "machine_shape": "hm",
      "mount_file_id": "1P3z461uKYo2Iu7vfRoRzGUWqV7jJfxEK",
      "authorship_tag": "ABX9TyNCcUHgBURntGcfw7Y8glVk",
      "include_colab_link": true
    },
    "kernelspec": {
      "display_name": "Python 3",
      "name": "python3"
    },
    "language_info": {
      "name": "python"
    },
    "accelerator": "GPU"
  },
  "cells": [
    {
      "cell_type": "markdown",
      "metadata": {
        "id": "view-in-github",
        "colab_type": "text"
      },
      "source": [
        "<a href=\"https://colab.research.google.com/github/ehzawad/adversarialsomething/blob/main/Cycleganstuff.ipynb\" target=\"_parent\"><img src=\"https://colab.research.google.com/assets/colab-badge.svg\" alt=\"Open In Colab\"/></a>"
      ]
    },
    {
      "cell_type": "code",
      "metadata": {
        "colab": {
          "base_uri": "https://localhost:8080/"
        },
        "id": "VfkHcLjC94Fq",
        "outputId": "6fd0c877-2acb-4761-e03c-ead9f49cfa6e"
      },
      "source": [
        "!pip install scipy==1.2.1"
      ],
      "execution_count": 7,
      "outputs": [
        {
          "output_type": "stream",
          "text": [
            "Requirement already satisfied: scipy==1.2.1 in /usr/local/lib/python3.7/dist-packages (1.2.1)\n",
            "Requirement already satisfied: numpy>=1.8.2 in /usr/local/lib/python3.7/dist-packages (from scipy==1.2.1) (1.19.5)\n"
          ],
          "name": "stdout"
        }
      ]
    },
    {
      "cell_type": "code",
      "metadata": {
        "colab": {
          "base_uri": "https://localhost:8080/"
        },
        "id": "28OnLElX6Khx",
        "outputId": "e94715da-ab72-4486-820d-22bcf6091592"
      },
      "source": [
        "!git clone https://github.com/ehzawad/adversarial-lesions.git"
      ],
      "execution_count": 1,
      "outputs": [
        {
          "output_type": "stream",
          "text": [
            "Cloning into 'adversarial-lesions'...\n",
            "remote: Enumerating objects: 442, done.\u001b[K\n",
            "remote: Counting objects: 100% (242/242), done.\u001b[K\n",
            "remote: Compressing objects: 100% (170/170), done.\u001b[K\n",
            "remote: Total 442 (delta 138), reused 166 (delta 68), pack-reused 200\u001b[K\n",
            "Receiving objects: 100% (442/442), 69.40 MiB | 12.66 MiB/s, done.\n",
            "Resolving deltas: 100% (247/247), done.\n"
          ],
          "name": "stdout"
        }
      ]
    },
    {
      "cell_type": "code",
      "metadata": {
        "id": "SQnciceU6PXe"
      },
      "source": [
        "!cp -r /content/drive/MyDrive/dataset/ /content/dataset"
      ],
      "execution_count": 2,
      "outputs": []
    },
    {
      "cell_type": "code",
      "metadata": {
        "colab": {
          "base_uri": "https://localhost:8080/"
        },
        "id": "onylxFOF6e2z",
        "outputId": "1748ed09-68e7-4fed-b8d2-a1c6f665e532"
      },
      "source": [
        "%cd /content/adversarial-lesions/"
      ],
      "execution_count": 1,
      "outputs": [
        {
          "output_type": "stream",
          "text": [
            "/content/adversarial-lesions\n"
          ],
          "name": "stdout"
        }
      ]
    },
    {
      "cell_type": "code",
      "metadata": {
        "colab": {
          "base_uri": "https://localhost:8080/"
        },
        "id": "AaTqRD_p6o-d",
        "outputId": "73c645b5-dcda-4d05-8f6e-76488804767d"
      },
      "source": [
        "!python /content/adversarial-lesions/isic2016_scripts/data_preprocess_isic2016.py"
      ],
      "execution_count": 2,
      "outputs": [
        {
          "output_type": "stream",
          "text": [
            "Training data...\n",
            "900it [00:40, 22.39it/s]\n",
            "(900, 256, 256, 3) (900, 2)\n",
            "Done!\n",
            "Test data...\n",
            "379it [00:15, 24.71it/s]\n",
            "(379, 256, 256, 3) (379, 2)\n",
            "Done!\n"
          ],
          "name": "stdout"
        }
      ]
    },
    {
      "cell_type": "code",
      "metadata": {
        "colab": {
          "base_uri": "https://localhost:8080/"
        },
        "id": "Nqt0uZlb7Cv8",
        "outputId": "7c7fd456-9ed0-41f4-ecac-ed5a10c28d9d"
      },
      "source": [
        "!python /content/adversarial-lesions/isic2016_scripts/data_preprocess_gan.py"
      ],
      "execution_count": 3,
      "outputs": [
        {
          "output_type": "stream",
          "text": [
            "900it [01:03, 14.22it/s]\n",
            "Done!\n"
          ],
          "name": "stdout"
        }
      ]
    },
    {
      "cell_type": "code",
      "metadata": {
        "colab": {
          "base_uri": "https://localhost:8080/"
        },
        "id": "CGDovH2-7YjU",
        "outputId": "bd69dd30-a894-4779-ad8b-7ecf15313b8b"
      },
      "source": [
        "!ls -al /content/dataset"
      ],
      "execution_count": 4,
      "outputs": [
        {
          "output_type": "stream",
          "text": [
            "total 24\n",
            "drwx------ 5 root root 4096 Aug 25 15:27 .\n",
            "drwxr-xr-x 1 root root 4096 Aug 25 15:24 ..\n",
            "drwx------ 4 root root 4096 Aug 25 15:24 isic2016\n",
            "drwxr-xr-x 6 root root 4096 Aug 25 15:32 isic2016gan\n",
            "drwxr-xr-x 2 root root 4096 Aug 25 15:26 isic2016numpy\n"
          ],
          "name": "stdout"
        }
      ]
    },
    {
      "cell_type": "code",
      "metadata": {
        "colab": {
          "base_uri": "https://localhost:8080/"
        },
        "id": "05dRwUmU7aPC",
        "outputId": "9aef0298-fd5c-44e7-ef22-b1b1af62606c"
      },
      "source": [
        "!ls -al /content/dataset/isic2016gan"
      ],
      "execution_count": 5,
      "outputs": [
        {
          "output_type": "stream",
          "text": [
            "total 40\n",
            "drwxr-xr-x 6 root root  4096 Aug 25 15:32 .\n",
            "drwx------ 5 root root  4096 Aug 25 15:27 ..\n",
            "drwxr-xr-x 2 root root  4096 Aug 25 15:31 testA\n",
            "drwxr-xr-x 2 root root  4096 Aug 25 15:32 testB\n",
            "drwxr-xr-x 2 root root 20480 Aug 25 15:28 trainA\n",
            "drwxr-xr-x 2 root root  4096 Aug 25 15:28 trainB\n"
          ],
          "name": "stdout"
        }
      ]
    },
    {
      "cell_type": "code",
      "metadata": {
        "id": "haS7Vt5c70iO"
      },
      "source": [
        "!mkdir /content/dataset/isic2016gan/testA"
      ],
      "execution_count": 10,
      "outputs": []
    },
    {
      "cell_type": "code",
      "metadata": {
        "id": "gn3Pw26S8E8g"
      },
      "source": [
        "!mkdir /content/dataset/isic2016gan/testB"
      ],
      "execution_count": 11,
      "outputs": []
    },
    {
      "cell_type": "code",
      "metadata": {
        "colab": {
          "base_uri": "https://localhost:8080/"
        },
        "id": "5p6gHuMM8TGT",
        "outputId": "e522f61d-e332-4210-98ba-4b932141ffc4"
      },
      "source": [
        "!pip install git+https://www.github.com/keras-team/keras-contrib.git"
      ],
      "execution_count": 6,
      "outputs": [
        {
          "output_type": "stream",
          "text": [
            "Collecting git+https://www.github.com/keras-team/keras-contrib.git\n",
            "  Cloning https://www.github.com/keras-team/keras-contrib.git to /tmp/pip-req-build-p9e0yfkx\n",
            "  Running command git clone -q https://www.github.com/keras-team/keras-contrib.git /tmp/pip-req-build-p9e0yfkx\n",
            "Requirement already satisfied: keras in /usr/local/lib/python3.7/dist-packages (from keras-contrib==2.0.8) (2.6.0)\n"
          ],
          "name": "stdout"
        }
      ]
    },
    {
      "cell_type": "code",
      "metadata": {
        "colab": {
          "base_uri": "https://localhost:8080/"
        },
        "id": "jVd6KGJi9zTS",
        "outputId": "d6fcb91b-7a31-4681-8bd7-01de760714e6"
      },
      "source": [
        "!pip install scipy"
      ],
      "execution_count": 13,
      "outputs": [
        {
          "output_type": "stream",
          "text": [
            "Requirement already satisfied: scipy in /usr/local/lib/python3.7/dist-packages (1.4.1)\n",
            "Requirement already satisfied: numpy>=1.13.3 in /usr/local/lib/python3.7/dist-packages (from scipy) (1.19.5)\n"
          ],
          "name": "stdout"
        }
      ]
    },
    {
      "cell_type": "code",
      "metadata": {
        "colab": {
          "base_uri": "https://localhost:8080/"
        },
        "id": "bkaAYRFMFuZF",
        "outputId": "51efbca0-60ee-4dba-8b8b-9d8238cb186a"
      },
      "source": [
        "import os\n",
        "import tensorflow as tf\n",
        "import scipy\n",
        "from glob import glob\n",
        "import numpy as np\n",
        "\n",
        "print(tf.test.gpu_device_name())\n",
        "\n",
        "base_path = os.path.abspath(\"../\")\n",
        "dataset_path = os.path.join(base_path, \"dataset/isic2016gan\")\n",
        "model_path = os.path.join(base_path, \"models\")\n",
        "print(os.listdir(dataset_path))\n",
        "\n",
        "\n",
        "class DataLoader():\n",
        "    def __init__(self, dataset_name, img_res=(256, 256)): #128\n",
        "        self.dataset_name = dataset_name\n",
        "        self.img_res = img_res\n",
        "\n",
        "    def load_data(self, domain, batch_size=1, is_testing=False):\n",
        "        data_type = \"train%s\" % domain if not is_testing else \"test%s\" % domain\n",
        "        path = glob('{}/dataset/%s/%s/*'.format(base_path) % (self.dataset_name, data_type))\n",
        "\n",
        "        batch_images = np.random.choice(path, size=batch_size)\n",
        "\n",
        "        imgs = []\n",
        "        for img_path in batch_images:\n",
        "            img = self.imread(img_path)\n",
        "            if not is_testing:\n",
        "                img = scipy.misc.imresize(img, self.img_res)\n",
        "\n",
        "                if np.random.random() > 0.5:\n",
        "                    img = np.fliplr(img)\n",
        "            else:\n",
        "                img = scipy.misc.imresize(img, self.img_res)\n",
        "            imgs.append(img)\n",
        "\n",
        "        # rescale to [-1, 1]\n",
        "        imgs = np.array(imgs)/127.5 - 1.\n",
        "        \n",
        "        # rescale to [0, 1]\n",
        "        #imgs = imgs.astype('float32')\n",
        "        #imgs = np.array(imgs)\n",
        "        #imgs = imgs / 255.\n",
        "        \n",
        "        return imgs\n",
        "\n",
        "    def load_batch(self, batch_size=1, is_testing=False):\n",
        "        data_type = \"train\" if not is_testing else \"val\"\n",
        "        path_A = glob('{}/dataset/%s/%sA/*'.format(base_path) % (self.dataset_name, data_type))\n",
        "        path_B = glob('{}/dataset/%s/%sB/*'.format(base_path) % (self.dataset_name, data_type))\n",
        "\n",
        "        self.n_batches = int(min(len(path_A), len(path_B)) / batch_size)\n",
        "        total_samples = self.n_batches * batch_size\n",
        "\n",
        "        # Sample n_batches * batch_size from each path list so that model sees all\n",
        "        # samples from both domains\n",
        "        path_A = np.random.choice(path_A, total_samples, replace=False)\n",
        "        path_B = np.random.choice(path_B, total_samples, replace=False)\n",
        "\n",
        "        for i in range(self.n_batches-1):\n",
        "            batch_A = path_A[i*batch_size:(i+1)*batch_size]\n",
        "            batch_B = path_B[i*batch_size:(i+1)*batch_size]\n",
        "            imgs_A, imgs_B = [], []\n",
        "            for img_A, img_B in zip(batch_A, batch_B):\n",
        "                img_A = self.imread(img_A)\n",
        "                img_B = self.imread(img_B)\n",
        "\n",
        "                img_A = scipy.misc.imresize(img_A, self.img_res)\n",
        "                img_B = scipy.misc.imresize(img_B, self.img_res)\n",
        "\n",
        "                if not is_testing and np.random.random() > 0.5:\n",
        "                        img_A = np.fliplr(img_A)\n",
        "                        img_B = np.fliplr(img_B)\n",
        "\n",
        "                imgs_A.append(img_A)\n",
        "                imgs_B.append(img_B)\n",
        "\n",
        "            # rescale to [-1, 1]\n",
        "            imgs_A = np.array(imgs_A)/127.5 - 1.\n",
        "            imgs_B = np.array(imgs_B)/127.5 - 1.\n",
        "\n",
        "            # rescale to [0, 1]\n",
        "            \n",
        "            #imgs_A = imgs_A.astype('float32')\n",
        "            #imgs_A = np.array(imgs_A)\n",
        "            #imgs_A = imgs_A / 255.\n",
        "            \n",
        "            #imgs_B = imgs_B.astype('float32')\n",
        "            #imgs_B = np.array(imgs_B)\n",
        "            #imgs_B = imgs_B / 255.\n",
        "            \n",
        "            yield imgs_A, imgs_B\n",
        "\n",
        "    def load_img(self, path):\n",
        "        img = self.imread(path)\n",
        "        img = scipy.misc.imresize(img, self.img_res)\n",
        "        \n",
        "        # rescale to [-1, 1]\n",
        "        img = img/127.5 - 1.\n",
        "        \n",
        "        # rescale to [0, 1]\n",
        "        #img = img.astype('float32')\n",
        "        #img = img / 255.\n",
        "        \n",
        "        return img[np.newaxis, :, :, :]\n",
        "\n",
        "    def imread(self, path):\n",
        "        return scipy.misc.imread(path, mode='RGB').astype(np.float) # np.float"
      ],
      "execution_count": 8,
      "outputs": [
        {
          "output_type": "stream",
          "text": [
            "/device:GPU:0\n",
            "['trainB', 'trainA', 'testA', 'testB']\n"
          ],
          "name": "stdout"
        }
      ]
    },
    {
      "cell_type": "code",
      "metadata": {
        "colab": {
          "base_uri": "https://localhost:8080/"
        },
        "id": "p1R9MoKsF4B4",
        "outputId": "a16807a5-bbf9-4649-e044-dd65a2d5bcac"
      },
      "source": [
        "#Sanity check\n",
        "path = glob('{}/dataset/%s/%s/*'.format(base_path) % (\"isic2016gan\", \"trainB\"))\n",
        "path[:3]\n"
      ],
      "execution_count": 9,
      "outputs": [
        {
          "output_type": "execute_result",
          "data": {
            "text/plain": [
              "['/content/dataset/isic2016gan/trainB/184.jpeg',\n",
              " '/content/dataset/isic2016gan/trainB/783.jpeg',\n",
              " '/content/dataset/isic2016gan/trainB/485.jpeg']"
            ]
          },
          "metadata": {},
          "execution_count": 9
        }
      ]
    },
    {
      "cell_type": "code",
      "metadata": {
        "id": "7Rj1zrvbGCEa"
      },
      "source": [
        ""
      ],
      "execution_count": null,
      "outputs": []
    },
    {
      "cell_type": "code",
      "metadata": {
        "colab": {
          "base_uri": "https://localhost:8080/"
        },
        "id": "BmNS2mqsGCGp",
        "outputId": "bf5fbc9f-e69d-4f1f-db9e-ab529bb012c0"
      },
      "source": [
        "from __future__ import print_function, division\n",
        "import scipy\n",
        "from keras.datasets import mnist\n",
        "from keras_contrib.layers.normalization.instancenormalization import InstanceNormalization\n",
        "from keras.layers import Input, Dense, Reshape, Flatten, Dropout, Concatenate\n",
        "from keras.layers import BatchNormalization, Activation, ZeroPadding2D\n",
        "from keras.layers.advanced_activations import LeakyReLU\n",
        "from keras.layers.convolutional import UpSampling2D, Conv2D\n",
        "from keras.models import Sequential, Model\n",
        "from tensorflow.keras.optimizers import Adam\n",
        "import datetime\n",
        "import matplotlib.pyplot as plt\n",
        "import sys\n",
        "import numpy as np\n",
        "import os\n",
        "import keras\n",
        "import pandas as pd\n",
        "import time\n",
        "\n",
        "class CycleGAN():\n",
        "    def __init__(self):\n",
        "        # Input shape\n",
        "        self.img_rows = 256 \n",
        "        self.img_cols = 256 \n",
        "        self.channels = 3\n",
        "        self.img_shape = (self.img_rows, self.img_cols, self.channels)\n",
        "\n",
        "        # Configure data loader\n",
        "        self.dataset_name = 'isic2016gan' #contains trainA, trainB, testA, testB\n",
        "        self.data_loader = DataLoader(dataset_name=self.dataset_name,\n",
        "                                      img_res=(self.img_rows, self.img_cols))\n",
        "\n",
        "\n",
        "        # Calculate output shape of D (PatchGAN)\n",
        "        patch = int(self.img_rows / 2**4)\n",
        "        self.disc_patch = (patch, patch, 1)\n",
        "\n",
        "        # Number of filters in the first layer of G and D\n",
        "        self.gf = 32\n",
        "        self.df = 64\n",
        "\n",
        "        # Loss weights\n",
        "        self.lambda_cycle = 10.0                    # Cycle-consistency loss\n",
        "        self.lambda_id = 0.1 * self.lambda_cycle    # Identity loss\n",
        "\n",
        "        optimizer = Adam(0.0002, 0.5)\n",
        "\n",
        "        # Build and compile the discriminators\n",
        "        self.d_A = self.build_discriminator()\n",
        "        self.d_B = self.build_discriminator()\n",
        "        self.d_A.compile(loss='mse',\n",
        "            optimizer=optimizer,\n",
        "            metrics=['accuracy'])\n",
        "        self.d_B.compile(loss='mse',\n",
        "            optimizer=optimizer,\n",
        "            metrics=['accuracy'])\n",
        "\n",
        "        #-------------------------\n",
        "        # Construct Computational\n",
        "        #   Graph of Generators\n",
        "        #-------------------------\n",
        "\n",
        "        # Build the generators\n",
        "        self.g_AB = self.build_generator()\n",
        "        self.g_BA = self.build_generator()\n",
        "\n",
        "        # Input images from both domains\n",
        "        img_A = Input(shape=self.img_shape)\n",
        "        img_B = Input(shape=self.img_shape)\n",
        "\n",
        "        # Translate images to the other domain\n",
        "        fake_B = self.g_AB(img_A)\n",
        "        fake_A = self.g_BA(img_B)\n",
        "        # Translate images back to original domain\n",
        "        reconstr_A = self.g_BA(fake_B)\n",
        "        reconstr_B = self.g_AB(fake_A)\n",
        "        # Identity mapping of images\n",
        "        img_A_id = self.g_BA(img_A)\n",
        "        img_B_id = self.g_AB(img_B)\n",
        "\n",
        "        # For the combined model we will only train the generators\n",
        "        self.d_A.trainable = False\n",
        "        self.d_B.trainable = False\n",
        "\n",
        "        # Discriminators determines validity of translated images\n",
        "        valid_A = self.d_A(fake_A)\n",
        "        valid_B = self.d_B(fake_B)\n",
        "\n",
        "        # Combined model trains generators to fool discriminators\n",
        "        self.combined = Model(inputs=[img_A, img_B],\n",
        "                              outputs=[ valid_A, valid_B,\n",
        "                                        reconstr_A, reconstr_B,\n",
        "                                        img_A_id, img_B_id ])\n",
        "        self.combined.compile(loss=['mse', 'mse',\n",
        "                                    'mae', 'mae',\n",
        "                                    'mae', 'mae'],\n",
        "                            loss_weights=[  1, 1,\n",
        "                                            self.lambda_cycle, self.lambda_cycle,\n",
        "                                            self.lambda_id, self.lambda_id ],\n",
        "                            optimizer=optimizer)\n",
        "\n",
        "    def build_generator(self):\n",
        "        \"\"\"U-Net Generator\"\"\"\n",
        "\n",
        "        def conv2d(layer_input, filters, f_size=4):\n",
        "            \"\"\"Layers used during downsampling\"\"\"\n",
        "            d = Conv2D(filters, kernel_size=f_size, strides=2, padding='same')(layer_input)\n",
        "            d = LeakyReLU(alpha=0.2)(d)\n",
        "            d = InstanceNormalization()(d)\n",
        "            return d\n",
        "\n",
        "        def deconv2d(layer_input, skip_input, filters, f_size=4, dropout_rate=0):\n",
        "            \"\"\"Layers used during upsampling\"\"\"\n",
        "            u = UpSampling2D(size=2)(layer_input)\n",
        "            u = Conv2D(filters, kernel_size=f_size, strides=1, padding='same', activation='relu')(u)\n",
        "            if dropout_rate:\n",
        "                u = Dropout(dropout_rate)(u)\n",
        "            u = InstanceNormalization()(u)\n",
        "            u = Concatenate()([u, skip_input])\n",
        "            return u\n",
        "\n",
        "        # Image input\n",
        "        d0 = Input(shape=self.img_shape)\n",
        "\n",
        "        # Downsampling\n",
        "        d1 = conv2d(d0, self.gf)\n",
        "        d2 = conv2d(d1, self.gf*2)\n",
        "        d3 = conv2d(d2, self.gf*4)\n",
        "        d4 = conv2d(d3, self.gf*8)\n",
        "\n",
        "        # Upsampling\n",
        "        u1 = deconv2d(d4, d3, self.gf*4)\n",
        "        u2 = deconv2d(u1, d2, self.gf*2)\n",
        "        u3 = deconv2d(u2, d1, self.gf)\n",
        "\n",
        "        u4 = UpSampling2D(size=2)(u3)\n",
        "        output_img = Conv2D(self.channels, kernel_size=4, strides=1, padding='same', activation='tanh')(u4)\n",
        "\n",
        "        return Model(d0, output_img)\n",
        "\n",
        "    def build_discriminator(self):\n",
        "\n",
        "        def d_layer(layer_input, filters, f_size=4, normalization=True):\n",
        "            \"\"\"Discriminator layer\"\"\"\n",
        "            d = Conv2D(filters, kernel_size=f_size, strides=2, padding='same')(layer_input)\n",
        "            d = LeakyReLU(alpha=0.2)(d)\n",
        "            if normalization:\n",
        "                d = InstanceNormalization()(d)\n",
        "            return d\n",
        "\n",
        "        img = Input(shape=self.img_shape)\n",
        "\n",
        "        d1 = d_layer(img, self.df, normalization=False)\n",
        "        d2 = d_layer(d1, self.df*2)\n",
        "        d3 = d_layer(d2, self.df*4)\n",
        "        d4 = d_layer(d3, self.df*8)\n",
        "\n",
        "        validity = Conv2D(1, kernel_size=4, strides=1, padding='same')(d4)\n",
        "\n",
        "        return Model(img, validity)\n",
        "\n",
        "    def train(self, epochs, batch_size=1, sample_interval=50):\n",
        "\n",
        "        start_time = datetime.datetime.now()\n",
        "\n",
        "        # Adversarial loss ground truths\n",
        "        valid = np.ones((batch_size,) + self.disc_patch)\n",
        "        fake = np.zeros((batch_size,) + self.disc_patch)\n",
        "        \n",
        "        # Make a log file\n",
        "        record_df = pd.DataFrame(columns=['epoch', 'd_Loss', 'accuracy', 'g_loss', 'adv', 'recon', 'id', 'elapsed_time'])\n",
        "\n",
        "        for epoch in range(epochs):\n",
        "            for batch_i, (imgs_A, imgs_B) in enumerate(self.data_loader.load_batch(batch_size)):\n",
        "\n",
        "                # ----------------------\n",
        "                #  Train Discriminators\n",
        "                # ----------------------\n",
        "\n",
        "                # Translate images to opposite domain\n",
        "                fake_B = self.g_AB.predict(imgs_A)\n",
        "                fake_A = self.g_BA.predict(imgs_B)\n",
        "\n",
        "                # Train the discriminators (original images = real / translated = Fake)\n",
        "                dA_loss_real = self.d_A.train_on_batch(imgs_A, valid)\n",
        "                dA_loss_fake = self.d_A.train_on_batch(fake_A, fake)\n",
        "                dA_loss = 0.5 * np.add(dA_loss_real, dA_loss_fake)\n",
        "\n",
        "                dB_loss_real = self.d_B.train_on_batch(imgs_B, valid)\n",
        "                dB_loss_fake = self.d_B.train_on_batch(fake_B, fake)\n",
        "                dB_loss = 0.5 * np.add(dB_loss_real, dB_loss_fake)\n",
        "\n",
        "                # Total disciminator loss\n",
        "                d_loss = 0.5 * np.add(dA_loss, dB_loss)\n",
        "\n",
        "\n",
        "                # ------------------\n",
        "                #  Train Generators\n",
        "                # ------------------\n",
        "\n",
        "                # Train the generators\n",
        "                g_loss = self.combined.train_on_batch([imgs_A, imgs_B],\n",
        "                                                        [valid, valid,\n",
        "                                                        imgs_A, imgs_B,\n",
        "                                                        imgs_A, imgs_B])\n",
        "\n",
        "                elapsed_time = datetime.datetime.now() - start_time\n",
        "\n",
        "                # Plot the progress\n",
        "                #print (\"[Epoch %d/%d] [Batch %d/%d] [D loss: %f, acc: %3d%%] [G loss: %05f, adv: %05f, recon: %05f, id: %05f] time: %s \" \\\n",
        "                #                                                        % ( epoch, epochs,\n",
        "                #                                                            batch_i, self.data_loader.n_batches,\n",
        "                #                                                            d_loss[0], 100*d_loss[1],\n",
        "                #                                                            g_loss[0],\n",
        "                #                                                            np.mean(g_loss[1:3]),\n",
        "                #                                                            np.mean(g_loss[3:5]),\n",
        "                #                                                            np.mean(g_loss[5:6]),\n",
        "                #                                                            elapsed_time))\n",
        "\n",
        "                # If at save interval => save generated image samples\n",
        "                if batch_i % sample_interval == 0:\n",
        "                    self.sample_images(epoch, batch_i)\n",
        "            \n",
        "            \n",
        "            # Print updates\n",
        "            print(epoch,\"--------\", d_loss[0], g_loss[0], 100*d_loss[1])\n",
        "\n",
        "            # Log metrics at end of epoch            \n",
        "            new_row = {'epoch': epoch, 'd_Loss': d_loss[0], 'accuracy': 100*d_loss[1], 'g_loss': g_loss[0], 'adv': np.mean(g_loss[1:3]), 'recon': np.mean(g_loss[3:5]), 'id': np.mean(g_loss[5:6]), 'elapsed_time': elapsed_time}\n",
        "                                      \n",
        "            record_df = record_df.append(new_row, ignore_index=True)\n",
        "            record_df.to_csv(\"{}/record.csv\".format(model_path), index=0)\n",
        "            \n",
        "            # Save file at end of epoch.\n",
        "            print(\"Saving model at {} epoch.\".format(epoch))\n",
        "            self.g_AB.save(filepath='{}/{}'.format(model_path, \"b2m.h5\"))\n",
        "            keras.callbacks.ModelCheckpoint(filepath='{}/{}'.format(model_path, \"b2m.h5\"), verbose=1,save_best_only=True)\n",
        "\n",
        "            self.g_BA.save(filepath='{}/{}'.format(model_path, \"m2b.h5\"))\n",
        "            keras.callbacks.ModelCheckpoint(filepath='{}/{}'.format(base_path, \"m2b.h5\"), verbose=1,save_best_only=True)\n",
        "\n",
        "            self.combined.save(filepath='{}/{}'.format(model_path, \"model.h5\"))\n",
        "            keras.callbacks.ModelCheckpoint(filepath='{}/{}'.format(model_path, \"model.h5\"), verbose=1,save_best_only=True)   \n",
        "            \n",
        "        \n",
        "        print(\"Training finished...\")\n",
        "        print(\"Models Saved!\")\n",
        "\n",
        "\n",
        "    def sample_images(self, epoch, batch_i):\n",
        "        os.makedirs('{}/images/%s'.format(model_path) % self.dataset_name, exist_ok=True)\n",
        "        r, c = 2, 3\n",
        "\n",
        "        imgs_A = self.data_loader.load_data(domain=\"A\", batch_size=1, is_testing=False)\n",
        "        imgs_B = self.data_loader.load_data(domain=\"B\", batch_size=1, is_testing=False)\n",
        "\n",
        "        # Demo (for GIF)\n",
        "        #imgs_A = self.data_loader.load_img('datasets/apple2orange/testA/n07740461_1541.jpg')\n",
        "        #imgs_B = self.data_loader.load_img('datasets/apple2orange/testB/n07749192_4241.jpg')\n",
        "\n",
        "        # Translate images to the other domain\n",
        "        fake_B = self.g_AB.predict(imgs_A)\n",
        "        fake_A = self.g_BA.predict(imgs_B)\n",
        "        # Translate back to original domain\n",
        "        reconstr_A = self.g_BA.predict(fake_B)\n",
        "        reconstr_B = self.g_AB.predict(fake_A)\n",
        "\n",
        "        gen_imgs = np.concatenate([imgs_A, fake_B, reconstr_A, imgs_B, fake_A, reconstr_B])\n",
        "\n",
        "        # Rescale images 0 - 1\n",
        "        gen_imgs = 0.5 * gen_imgs + 0.5\n",
        "\n",
        "        titles = ['Original', 'Translated', 'Reconstructed']\n",
        "        fig, axs = plt.subplots(r, c)\n",
        "        cnt = 0\n",
        "        for i in range(r):\n",
        "            for j in range(c):\n",
        "                axs[i,j].imshow(gen_imgs[cnt])\n",
        "                axs[i, j].set_title(titles[j])\n",
        "                axs[i,j].axis('off')\n",
        "                cnt += 1\n",
        "        fig.savefig(\"{}/images/%s/%d_%d.png\".format(model_path) % (self.dataset_name, epoch, batch_i))\n",
        "        plt.close()\n",
        "\n",
        "\n",
        "if __name__ == '__main__':\n",
        "    \n",
        "    start_time = time.time()\n",
        "    \n",
        "    gan = CycleGAN()\n",
        "    print(\"Training..\")\n",
        "    gan.train(epochs=10, batch_size=1, sample_interval=500)\n",
        "    \n",
        "    end_time = time.time()\n",
        "    print(\"--- Time taken to train : %s hours ---\" % ((end_time - start_time)//3600))"
      ],
      "execution_count": 12,
      "outputs": [
        {
          "output_type": "stream",
          "text": [
            "Training..\n"
          ],
          "name": "stdout"
        },
        {
          "output_type": "stream",
          "text": [
            "/usr/local/lib/python3.7/dist-packages/ipykernel_launcher.py:109: DeprecationWarning:     `imread` is deprecated!\n",
            "    `imread` is deprecated in SciPy 1.0.0, and will be removed in 1.2.0.\n",
            "    Use ``imageio.imread`` instead.\n",
            "/usr/local/lib/python3.7/dist-packages/ipykernel_launcher.py:69: DeprecationWarning:     `imresize` is deprecated!\n",
            "    `imresize` is deprecated in SciPy 1.0.0, and will be removed in 1.3.0.\n",
            "    Use Pillow instead: ``numpy.array(Image.fromarray(arr).resize())``.\n",
            "/usr/local/lib/python3.7/dist-packages/ipykernel_launcher.py:70: DeprecationWarning:     `imresize` is deprecated!\n",
            "    `imresize` is deprecated in SciPy 1.0.0, and will be removed in 1.3.0.\n",
            "    Use Pillow instead: ``numpy.array(Image.fromarray(arr).resize())``.\n",
            "/usr/local/lib/python3.7/dist-packages/ipykernel_launcher.py:30: DeprecationWarning:     `imresize` is deprecated!\n",
            "    `imresize` is deprecated in SciPy 1.0.0, and will be removed in 1.3.0.\n",
            "    Use Pillow instead: ``numpy.array(Image.fromarray(arr).resize())``.\n"
          ],
          "name": "stderr"
        },
        {
          "output_type": "stream",
          "text": [
            "0 -------- 0.424055315554142 6.208845138549805 20.5078125\n",
            "Saving model at 0 epoch.\n",
            "WARNING:tensorflow:Compiled the loaded model, but the compiled metrics have yet to be built. `model.compile_metrics` will be empty until you train or evaluate the model.\n",
            "WARNING:tensorflow:Compiled the loaded model, but the compiled metrics have yet to be built. `model.compile_metrics` will be empty until you train or evaluate the model.\n",
            "1 -------- 0.26667928881943226 9.300519943237305 51.953125\n",
            "Saving model at 1 epoch.\n",
            "WARNING:tensorflow:Compiled the loaded model, but the compiled metrics have yet to be built. `model.compile_metrics` will be empty until you train or evaluate the model.\n",
            "WARNING:tensorflow:Compiled the loaded model, but the compiled metrics have yet to be built. `model.compile_metrics` will be empty until you train or evaluate the model.\n",
            "2 -------- 0.2935521975159645 4.9035420417785645 26.85546875\n",
            "Saving model at 2 epoch.\n",
            "WARNING:tensorflow:Compiled the loaded model, but the compiled metrics have yet to be built. `model.compile_metrics` will be empty until you train or evaluate the model.\n",
            "WARNING:tensorflow:Compiled the loaded model, but the compiled metrics have yet to be built. `model.compile_metrics` will be empty until you train or evaluate the model.\n",
            "3 -------- 0.2657351791858673 3.478452205657959 39.35546875\n",
            "Saving model at 3 epoch.\n",
            "WARNING:tensorflow:Compiled the loaded model, but the compiled metrics have yet to be built. `model.compile_metrics` will be empty until you train or evaluate the model.\n",
            "WARNING:tensorflow:Compiled the loaded model, but the compiled metrics have yet to be built. `model.compile_metrics` will be empty until you train or evaluate the model.\n",
            "4 -------- 0.2716026306152344 4.047168731689453 47.16796875\n",
            "Saving model at 4 epoch.\n",
            "WARNING:tensorflow:Compiled the loaded model, but the compiled metrics have yet to be built. `model.compile_metrics` will be empty until you train or evaluate the model.\n",
            "WARNING:tensorflow:Compiled the loaded model, but the compiled metrics have yet to be built. `model.compile_metrics` will be empty until you train or evaluate the model.\n",
            "5 -------- 0.32160013169050217 3.869617462158203 19.3359375\n",
            "Saving model at 5 epoch.\n",
            "WARNING:tensorflow:Compiled the loaded model, but the compiled metrics have yet to be built. `model.compile_metrics` will be empty until you train or evaluate the model.\n",
            "WARNING:tensorflow:Compiled the loaded model, but the compiled metrics have yet to be built. `model.compile_metrics` will be empty until you train or evaluate the model.\n",
            "6 -------- 0.26898859441280365 3.869472026824951 44.921875\n",
            "Saving model at 6 epoch.\n",
            "WARNING:tensorflow:Compiled the loaded model, but the compiled metrics have yet to be built. `model.compile_metrics` will be empty until you train or evaluate the model.\n",
            "WARNING:tensorflow:Compiled the loaded model, but the compiled metrics have yet to be built. `model.compile_metrics` will be empty until you train or evaluate the model.\n",
            "7 -------- 0.2676284797489643 2.7338998317718506 47.4609375\n",
            "Saving model at 7 epoch.\n",
            "WARNING:tensorflow:Compiled the loaded model, but the compiled metrics have yet to be built. `model.compile_metrics` will be empty until you train or evaluate the model.\n",
            "WARNING:tensorflow:Compiled the loaded model, but the compiled metrics have yet to be built. `model.compile_metrics` will be empty until you train or evaluate the model.\n",
            "8 -------- 0.22022952139377594 3.5780868530273438 64.74609375\n",
            "Saving model at 8 epoch.\n",
            "WARNING:tensorflow:Compiled the loaded model, but the compiled metrics have yet to be built. `model.compile_metrics` will be empty until you train or evaluate the model.\n",
            "WARNING:tensorflow:Compiled the loaded model, but the compiled metrics have yet to be built. `model.compile_metrics` will be empty until you train or evaluate the model.\n",
            "9 -------- 0.2335143629461527 4.687631607055664 61.62109375\n",
            "Saving model at 9 epoch.\n",
            "WARNING:tensorflow:Compiled the loaded model, but the compiled metrics have yet to be built. `model.compile_metrics` will be empty until you train or evaluate the model.\n",
            "WARNING:tensorflow:Compiled the loaded model, but the compiled metrics have yet to be built. `model.compile_metrics` will be empty until you train or evaluate the model.\n",
            "Training finished...\n",
            "Models Saved!\n",
            "--- Time taken to train : 0.0 hours ---\n"
          ],
          "name": "stdout"
        }
      ]
    }
  ]
}