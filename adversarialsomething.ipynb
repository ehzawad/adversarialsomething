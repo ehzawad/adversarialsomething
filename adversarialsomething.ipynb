{
  "nbformat": 4,
  "nbformat_minor": 0,
  "metadata": {
    "colab": {
      "name": "adversarialsomething.ipynb",
      "provenance": [],
      "collapsed_sections": [],
      "mount_file_id": "1WknqXDmn7XWgAFJOSh7PUZmXKSYRmEkm",
      "authorship_tag": "ABX9TyOZuuVITQGDcnJuHZh2tegf",
      "include_colab_link": true
    },
    "kernelspec": {
      "name": "python3",
      "display_name": "Python 3"
    },
    "language_info": {
      "name": "python"
    },
    "accelerator": "TPU"
  },
  "cells": [
    {
      "cell_type": "markdown",
      "metadata": {
        "id": "view-in-github",
        "colab_type": "text"
      },
      "source": [
        "<a href=\"https://colab.research.google.com/github/ehzawad/adversarialsomething/blob/main/adversarialsomething.ipynb\" target=\"_parent\"><img src=\"https://colab.research.google.com/assets/colab-badge.svg\" alt=\"Open In Colab\"/></a>"
      ]
    },
    {
      "cell_type": "code",
      "metadata": {
        "colab": {
          "base_uri": "https://localhost:8080/"
        },
        "id": "1L8pRO-IMRlE",
        "outputId": "b8a6eccb-fb1c-438f-98e3-02c8aafc456b"
      },
      "source": [
        "!git clone https://github.com/ehzawad/adversarial-lesions.git"
      ],
      "execution_count": 1,
      "outputs": [
        {
          "output_type": "stream",
          "text": [
            "Cloning into 'adversarial-lesions'...\n",
            "remote: Enumerating objects: 439, done.\u001b[K\n",
            "remote: Counting objects: 100% (239/239), done.\u001b[K\n",
            "remote: Compressing objects: 100% (168/168), done.\u001b[K\n",
            "remote: Total 439 (delta 136), reused 163 (delta 67), pack-reused 200\u001b[K\n",
            "Receiving objects: 100% (439/439), 69.40 MiB | 29.06 MiB/s, done.\n",
            "Resolving deltas: 100% (245/245), done.\n"
          ],
          "name": "stdout"
        }
      ]
    },
    {
      "cell_type": "code",
      "metadata": {
        "id": "qFYeghk2NxpA"
      },
      "source": [
        "!cp -R /content/drive/MyDrive/isic2016 /content/dataset"
      ],
      "execution_count": 2,
      "outputs": []
    },
    {
      "cell_type": "code",
      "metadata": {
        "id": "8NCzZ2kMQ4eb"
      },
      "source": [
        "!mv /content/adversarial-lesions/helpers.py /content/adversarial-lesions/isic2016_scripts"
      ],
      "execution_count": 4,
      "outputs": []
    },
    {
      "cell_type": "code",
      "metadata": {
        "colab": {
          "base_uri": "https://localhost:8080/"
        },
        "id": "TTM8S6UPR8li",
        "outputId": "4b4f4887-899a-40ff-da42-316fad9a61bd"
      },
      "source": [
        "%cd /content/adversarial-lesions/"
      ],
      "execution_count": 10,
      "outputs": [
        {
          "output_type": "stream",
          "text": [
            "/content/adversarial-lesions\n"
          ],
          "name": "stdout"
        }
      ]
    },
    {
      "cell_type": "code",
      "metadata": {
        "colab": {
          "base_uri": "https://localhost:8080/"
        },
        "id": "1ArXKQtBSpoh",
        "outputId": "331819a1-402a-4e6d-88c9-81eff4604eab"
      },
      "source": [
        "!pwd"
      ],
      "execution_count": 11,
      "outputs": [
        {
          "output_type": "stream",
          "text": [
            "/content/adversarial-lesions\n"
          ],
          "name": "stdout"
        }
      ]
    },
    {
      "cell_type": "code",
      "metadata": {
        "colab": {
          "base_uri": "https://localhost:8080/"
        },
        "id": "CRL93E2ZP2uh",
        "outputId": "b9ffd4f3-947a-44fc-dbd4-8881287b1b11"
      },
      "source": [
        "!python /content/adversarial-lesions/isic2016_scripts/data_preprocess_isic2016.py"
      ],
      "execution_count": 12,
      "outputs": [
        {
          "output_type": "stream",
          "text": [
            "Training data...\n",
            "900it [00:52, 17.18it/s]\n",
            "(900, 256, 256, 3) (900, 2)\n",
            "Done!\n",
            "Test data...\n",
            "379it [00:19, 19.63it/s]\n",
            "(379, 256, 256, 3) (379, 2)\n",
            "Done!\n"
          ],
          "name": "stdout"
        }
      ]
    },
    {
      "cell_type": "code",
      "metadata": {
        "colab": {
          "base_uri": "https://localhost:8080/"
        },
        "id": "SUGxR8UhTHcn",
        "outputId": "f3626378-d1fb-4ffb-bd9f-a8a12c87d195"
      },
      "source": [
        "!python /content/adversarial-lesions/isic2016_scripts/data_preprocess_gan.py"
      ],
      "execution_count": 13,
      "outputs": [
        {
          "output_type": "stream",
          "text": [
            "900it [01:22, 10.95it/s]\n",
            "Done!\n"
          ],
          "name": "stdout"
        }
      ]
    },
    {
      "cell_type": "code",
      "metadata": {
        "id": "ti0Ei7dMT7ez"
      },
      "source": [
        ""
      ],
      "execution_count": null,
      "outputs": []
    }
  ]
}