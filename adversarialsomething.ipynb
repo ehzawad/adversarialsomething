{
  "nbformat": 4,
  "nbformat_minor": 0,
  "metadata": {
    "colab": {
      "name": "adversarialsomething.ipynb",
      "provenance": [],
      "collapsed_sections": [],
      "mount_file_id": "1WknqXDmn7XWgAFJOSh7PUZmXKSYRmEkm",
      "authorship_tag": "ABX9TyPwCd3x2wZIPmk3yNTqjtGA",
      "include_colab_link": true
    },
    "kernelspec": {
      "name": "python3",
      "display_name": "Python 3"
    },
    "language_info": {
      "name": "python"
    },
    "accelerator": "TPU"
  },
  "cells": [
    {
      "cell_type": "markdown",
      "metadata": {
        "id": "view-in-github",
        "colab_type": "text"
      },
      "source": [
        "<a href=\"https://colab.research.google.com/github/ehzawad/adversarialsomething/blob/main/adversarialsomething.ipynb\" target=\"_parent\"><img src=\"https://colab.research.google.com/assets/colab-badge.svg\" alt=\"Open In Colab\"/></a>"
      ]
    },
    {
      "cell_type": "code",
      "metadata": {
        "colab": {
          "base_uri": "https://localhost:8080/"
        },
        "id": "1L8pRO-IMRlE",
        "outputId": "b8a6eccb-fb1c-438f-98e3-02c8aafc456b"
      },
      "source": [
        "!git clone https://github.com/ehzawad/adversarial-lesions.git"
      ],
      "execution_count": 1,
      "outputs": [
        {
          "output_type": "stream",
          "text": [
            "Cloning into 'adversarial-lesions'...\n",
            "remote: Enumerating objects: 439, done.\u001b[K\n",
            "remote: Counting objects: 100% (239/239), done.\u001b[K\n",
            "remote: Compressing objects: 100% (168/168), done.\u001b[K\n",
            "remote: Total 439 (delta 136), reused 163 (delta 67), pack-reused 200\u001b[K\n",
            "Receiving objects: 100% (439/439), 69.40 MiB | 29.06 MiB/s, done.\n",
            "Resolving deltas: 100% (245/245), done.\n"
          ],
          "name": "stdout"
        }
      ]
    },
    {
      "cell_type": "code",
      "metadata": {
        "id": "qFYeghk2NxpA"
      },
      "source": [
        "!cp -R /content/drive/MyDrive/isic2016 /content/dataset"
      ],
      "execution_count": 2,
      "outputs": []
    },
    {
      "cell_type": "code",
      "metadata": {
        "id": "8NCzZ2kMQ4eb"
      },
      "source": [
        "!mv /content/adversarial-lesions/helpers.py /content/adversarial-lesions/isic2016_scripts"
      ],
      "execution_count": 4,
      "outputs": []
    },
    {
      "cell_type": "code",
      "metadata": {
        "colab": {
          "base_uri": "https://localhost:8080/"
        },
        "id": "TTM8S6UPR8li",
        "outputId": "4b4f4887-899a-40ff-da42-316fad9a61bd"
      },
      "source": [
        "%cd /content/adversarial-lesions/"
      ],
      "execution_count": 10,
      "outputs": [
        {
          "output_type": "stream",
          "text": [
            "/content/adversarial-lesions\n"
          ],
          "name": "stdout"
        }
      ]
    },
    {
      "cell_type": "code",
      "metadata": {
        "colab": {
          "base_uri": "https://localhost:8080/"
        },
        "id": "1ArXKQtBSpoh",
        "outputId": "331819a1-402a-4e6d-88c9-81eff4604eab"
      },
      "source": [
        "!pwd"
      ],
      "execution_count": 11,
      "outputs": [
        {
          "output_type": "stream",
          "text": [
            "/content/adversarial-lesions\n"
          ],
          "name": "stdout"
        }
      ]
    },
    {
      "cell_type": "code",
      "metadata": {
        "colab": {
          "base_uri": "https://localhost:8080/"
        },
        "id": "CRL93E2ZP2uh",
        "outputId": "b9ffd4f3-947a-44fc-dbd4-8881287b1b11"
      },
      "source": [
        "!python /content/adversarial-lesions/isic2016_scripts/data_preprocess_isic2016.py"
      ],
      "execution_count": 12,
      "outputs": [
        {
          "output_type": "stream",
          "text": [
            "Training data...\n",
            "900it [00:52, 17.18it/s]\n",
            "(900, 256, 256, 3) (900, 2)\n",
            "Done!\n",
            "Test data...\n",
            "379it [00:19, 19.63it/s]\n",
            "(379, 256, 256, 3) (379, 2)\n",
            "Done!\n"
          ],
          "name": "stdout"
        }
      ]
    },
    {
      "cell_type": "code",
      "metadata": {
        "colab": {
          "base_uri": "https://localhost:8080/"
        },
        "id": "SUGxR8UhTHcn",
        "outputId": "f3626378-d1fb-4ffb-bd9f-a8a12c87d195"
      },
      "source": [
        "!python /content/adversarial-lesions/isic2016_scripts/data_preprocess_gan.py"
      ],
      "execution_count": 13,
      "outputs": [
        {
          "output_type": "stream",
          "text": [
            "900it [01:22, 10.95it/s]\n",
            "Done!\n"
          ],
          "name": "stdout"
        }
      ]
    },
    {
      "cell_type": "code",
      "metadata": {
        "colab": {
          "base_uri": "https://localhost:8080/"
        },
        "id": "ti0Ei7dMT7ez",
        "outputId": "417f98c9-e8b4-4449-c594-2a4a0a6e81e1"
      },
      "source": [
        "!ls -al /content/dataset"
      ],
      "execution_count": 14,
      "outputs": [
        {
          "output_type": "stream",
          "text": [
            "total 20\n",
            "drwxr-xr-x 5 root root 4096 Aug 24 22:34 .\n",
            "drwxr-xr-x 1 root root 4096 Aug 24 22:06 ..\n",
            "drwx------ 4 root root 4096 Aug 24 22:18 isic2016\n",
            "drwxr-xr-x 4 root root 4096 Aug 24 22:34 isic2016gan\n",
            "drwxr-xr-x 2 root root 4096 Aug 24 22:33 isic2016numpy\n"
          ],
          "name": "stdout"
        }
      ]
    },
    {
      "cell_type": "code",
      "metadata": {
        "colab": {
          "base_uri": "https://localhost:8080/"
        },
        "id": "OglPB9L_UbX9",
        "outputId": "662a6792-4754-4d2e-850a-ca22a5296d0e"
      },
      "source": [
        "!ls -al /content/dataset/isic2016gan"
      ],
      "execution_count": 15,
      "outputs": [
        {
          "output_type": "stream",
          "text": [
            "total 32\n",
            "drwxr-xr-x 4 root root  4096 Aug 24 22:34 .\n",
            "drwxr-xr-x 5 root root  4096 Aug 24 22:34 ..\n",
            "drwxr-xr-x 2 root root 20480 Aug 24 22:35 trainA\n",
            "drwxr-xr-x 2 root root  4096 Aug 24 22:35 trainB\n"
          ],
          "name": "stdout"
        }
      ]
    },
    {
      "cell_type": "code",
      "metadata": {
        "colab": {
          "base_uri": "https://localhost:8080/"
        },
        "id": "eRZppd8-VgKm",
        "outputId": "58b20ae0-f21b-4af6-cffb-7476bca5a3ea"
      },
      "source": [
        "!pip install git+https://www.github.com/keras-team/keras-contrib.git"
      ],
      "execution_count": 16,
      "outputs": [
        {
          "output_type": "stream",
          "text": [
            "Collecting git+https://www.github.com/keras-team/keras-contrib.git\n",
            "  Cloning https://www.github.com/keras-team/keras-contrib.git to /tmp/pip-req-build-n8emm1qr\n",
            "  Running command git clone -q https://www.github.com/keras-team/keras-contrib.git /tmp/pip-req-build-n8emm1qr\n",
            "Requirement already satisfied: keras in /usr/local/lib/python3.7/dist-packages (from keras-contrib==2.0.8) (2.6.0)\n",
            "Building wheels for collected packages: keras-contrib\n",
            "  Building wheel for keras-contrib (setup.py) ... \u001b[?25l\u001b[?25hdone\n",
            "  Created wheel for keras-contrib: filename=keras_contrib-2.0.8-py3-none-any.whl size=101077 sha256=b2e80bc98641a15f5a4ef3020dea0fc1dda21bcc1933d6595e46d5fd59b309bf\n",
            "  Stored in directory: /tmp/pip-ephem-wheel-cache-awc8mpxu/wheels/bb/1f/f2/b57495012683b6b20bbae94a3915ec79753111452d79886abc\n",
            "Successfully built keras-contrib\n",
            "Installing collected packages: keras-contrib\n",
            "Successfully installed keras-contrib-2.0.8\n"
          ],
          "name": "stdout"
        }
      ]
    },
    {
      "cell_type": "code",
      "metadata": {
        "colab": {
          "base_uri": "https://localhost:8080/"
        },
        "id": "AVeZgDhcW97q",
        "outputId": "6e726394-925e-4edc-e991-1f9c47e7e0d6"
      },
      "source": [
        "import os\n",
        "import tensorflow as tf\n",
        "import scipy\n",
        "from glob import glob\n",
        "import numpy as np\n",
        "\n",
        "print(tf.test.gpu_device_name())\n",
        "\n",
        "base_path = os.path.abspath(\"../\")\n",
        "dataset_path = os.path.join(base_path, \"dataset/isic2016gan\")\n",
        "model_path = os.path.join(base_path, \"models\")\n",
        "print(os.listdir(dataset_path))\n",
        "\n",
        "\n",
        "class DataLoader():\n",
        "    def __init__(self, dataset_name, img_res=(256, 256)): #128\n",
        "        self.dataset_name = dataset_name\n",
        "        self.img_res = img_res\n",
        "\n",
        "    def load_data(self, domain, batch_size=1, is_testing=False):\n",
        "        data_type = \"train%s\" % domain if not is_testing else \"test%s\" % domain\n",
        "        path = glob('{}/dataset/%s/%s/*'.format(base_path) % (self.dataset_name, data_type))\n",
        "\n",
        "        batch_images = np.random.choice(path, size=batch_size)\n",
        "\n",
        "        imgs = []\n",
        "        for img_path in batch_images:\n",
        "            img = self.imread(img_path)\n",
        "            if not is_testing:\n",
        "                img = scipy.misc.imresize(img, self.img_res)\n",
        "\n",
        "                if np.random.random() > 0.5:\n",
        "                    img = np.fliplr(img)\n",
        "            else:\n",
        "                img = scipy.misc.imresize(img, self.img_res)\n",
        "            imgs.append(img)\n",
        "\n",
        "        # rescale to [-1, 1]\n",
        "        imgs = np.array(imgs)/127.5 - 1.\n",
        "        \n",
        "        # rescale to [0, 1]\n",
        "        #imgs = imgs.astype('float32')\n",
        "        #imgs = np.array(imgs)\n",
        "        #imgs = imgs / 255.\n",
        "        \n",
        "        return imgs\n",
        "\n",
        "    def load_batch(self, batch_size=1, is_testing=False):\n",
        "        data_type = \"train\" if not is_testing else \"val\"\n",
        "        path_A = glob('{}/dataset/%s/%sA/*'.format(base_path) % (self.dataset_name, data_type))\n",
        "        path_B = glob('{}/dataset/%s/%sB/*'.format(base_path) % (self.dataset_name, data_type))\n",
        "\n",
        "        self.n_batches = int(min(len(path_A), len(path_B)) / batch_size)\n",
        "        total_samples = self.n_batches * batch_size\n",
        "\n",
        "        # Sample n_batches * batch_size from each path list so that model sees all\n",
        "        # samples from both domains\n",
        "        path_A = np.random.choice(path_A, total_samples, replace=False)\n",
        "        path_B = np.random.choice(path_B, total_samples, replace=False)\n",
        "\n",
        "        for i in range(self.n_batches-1):\n",
        "            batch_A = path_A[i*batch_size:(i+1)*batch_size]\n",
        "            batch_B = path_B[i*batch_size:(i+1)*batch_size]\n",
        "            imgs_A, imgs_B = [], []\n",
        "            for img_A, img_B in zip(batch_A, batch_B):\n",
        "                img_A = self.imread(img_A)\n",
        "                img_B = self.imread(img_B)\n",
        "\n",
        "                img_A = scipy.misc.imresize(img_A, self.img_res)\n",
        "                img_B = scipy.misc.imresize(img_B, self.img_res)\n",
        "\n",
        "                if not is_testing and np.random.random() > 0.5:\n",
        "                        img_A = np.fliplr(img_A)\n",
        "                        img_B = np.fliplr(img_B)\n",
        "\n",
        "                imgs_A.append(img_A)\n",
        "                imgs_B.append(img_B)\n",
        "\n",
        "            # rescale to [-1, 1]\n",
        "            imgs_A = np.array(imgs_A)/127.5 - 1.\n",
        "            imgs_B = np.array(imgs_B)/127.5 - 1.\n",
        "\n",
        "            # rescale to [0, 1]\n",
        "            \n",
        "            #imgs_A = imgs_A.astype('float32')\n",
        "            #imgs_A = np.array(imgs_A)\n",
        "            #imgs_A = imgs_A / 255.\n",
        "            \n",
        "            #imgs_B = imgs_B.astype('float32')\n",
        "            #imgs_B = np.array(imgs_B)\n",
        "            #imgs_B = imgs_B / 255.\n",
        "            \n",
        "            yield imgs_A, imgs_B\n",
        "\n",
        "    def load_img(self, path):\n",
        "        img = self.imread(path)\n",
        "        img = scipy.misc.imresize(img, self.img_res)\n",
        "        \n",
        "        # rescale to [-1, 1]\n",
        "        img = img/127.5 - 1.\n",
        "        \n",
        "        # rescale to [0, 1]\n",
        "        #img = img.astype('float32')\n",
        "        #img = img / 255.\n",
        "        \n",
        "        return img[np.newaxis, :, :, :]\n",
        "\n",
        "    def imread(self, path):\n",
        "        return scipy.misc.imread(path, mode='RGB').astype(np.float) # np.float"
      ],
      "execution_count": 23,
      "outputs": [
        {
          "output_type": "stream",
          "text": [
            "\n",
            "['trainB', 'trainA']\n"
          ],
          "name": "stdout"
        }
      ]
    },
    {
      "cell_type": "code",
      "metadata": {
        "colab": {
          "base_uri": "https://localhost:8080/"
        },
        "id": "jfOknm5LXEPu",
        "outputId": "b30efa87-c403-45c0-ba80-f43eade6734d"
      },
      "source": [
        "#Sanity check\n",
        "path = glob('{}/dataset/%s/%s/*'.format(base_path) % (\"isic2016gan\", \"trainB\"))\n",
        "path[:3]"
      ],
      "execution_count": 24,
      "outputs": [
        {
          "output_type": "execute_result",
          "data": {
            "text/plain": [
              "['/content/dataset/isic2016gan/trainB/554.jpeg',\n",
              " '/content/dataset/isic2016gan/trainB/194.jpeg',\n",
              " '/content/dataset/isic2016gan/trainB/105.jpeg']"
            ]
          },
          "metadata": {},
          "execution_count": 24
        }
      ]
    }
  ]
}