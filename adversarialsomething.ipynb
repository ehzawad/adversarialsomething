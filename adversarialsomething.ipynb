{
  "nbformat": 4,
  "nbformat_minor": 0,
  "metadata": {
    "colab": {
      "name": "adversarialsomething.ipynb",
      "provenance": [],
      "collapsed_sections": [],
      "mount_file_id": "1WknqXDmn7XWgAFJOSh7PUZmXKSYRmEkm",
      "authorship_tag": "ABX9TyPNYkDVdfidaL7vQ7oJC/ON",
      "include_colab_link": true
    },
    "kernelspec": {
      "name": "python3",
      "display_name": "Python 3"
    },
    "language_info": {
      "name": "python"
    },
    "accelerator": "TPU"
  },
  "cells": [
    {
      "cell_type": "markdown",
      "metadata": {
        "id": "view-in-github",
        "colab_type": "text"
      },
      "source": [
        "<a href=\"https://colab.research.google.com/github/ehzawad/adversarialsomething/blob/main/adversarialsomething.ipynb\" target=\"_parent\"><img src=\"https://colab.research.google.com/assets/colab-badge.svg\" alt=\"Open In Colab\"/></a>"
      ]
    },
    {
      "cell_type": "code",
      "metadata": {
        "colab": {
          "base_uri": "https://localhost:8080/"
        },
        "id": "1L8pRO-IMRlE",
        "outputId": "b8a6eccb-fb1c-438f-98e3-02c8aafc456b"
      },
      "source": [
        "!git clone https://github.com/ehzawad/adversarial-lesions.git"
      ],
      "execution_count": 1,
      "outputs": [
        {
          "output_type": "stream",
          "text": [
            "Cloning into 'adversarial-lesions'...\n",
            "remote: Enumerating objects: 439, done.\u001b[K\n",
            "remote: Counting objects: 100% (239/239), done.\u001b[K\n",
            "remote: Compressing objects: 100% (168/168), done.\u001b[K\n",
            "remote: Total 439 (delta 136), reused 163 (delta 67), pack-reused 200\u001b[K\n",
            "Receiving objects: 100% (439/439), 69.40 MiB | 29.06 MiB/s, done.\n",
            "Resolving deltas: 100% (245/245), done.\n"
          ],
          "name": "stdout"
        }
      ]
    },
    {
      "cell_type": "code",
      "metadata": {
        "id": "qFYeghk2NxpA"
      },
      "source": [
        "!cp -R /content/drive/MyDrive/isic2016 /content/dataset"
      ],
      "execution_count": 2,
      "outputs": []
    }
  ]
}